{
 "cells": [
  {
   "cell_type": "code",
   "execution_count": 1,
   "metadata": {
    "collapsed": true
   },
   "outputs": [],
   "source": [
    "%load_ext autoreload\n",
    "%autoreload 2\n",
    "%matplotlib inline\n",
    "import os\n",
    "import numpy as np\n",
    "import h5py\n",
    "from decimal import Decimal\n",
    "from matplotlib import pyplot as plt\n",
    "import matplotlib\n",
    "import pandas as pd\n",
    "import torch \n",
    "from sklearn.preprocessing import StandardScaler\n",
    "from torch.utils.data import Dataset, DataLoader\n",
    "from glob import glob\n",
    "import torch\n",
    "from torch.autograd import Variable\n",
    "import time\n",
    "import torch.nn as nn\n",
    "import torch.nn.parallel\n",
    "import torch.backends.cudnn as cudnn\n",
    "import torch.distributed as dist\n",
    "import torch.optim\n",
    "import torch.utils.data.distributed\n",
    "import torch.nn.functional as F\n",
    "from torch.utils.data.sampler import SubsetRandomSampler\n",
    "from trainingMSE_relu_PCA import EventDataset, SimpleNet\n",
    "from matplotlib.colors import LogNorm\n",
    "font = {'family' : 'serif',\n",
    "        'weight' : 'normal',\n",
    "        'size'   : 15}\n",
    "\n",
    "matplotlib.rc('font', **font)\n",
    "matplotlib.rcParams['figure.figsize'] = 7, 5\n",
    "matplotlib.rcParams['lines.linewidth'] = 1"
   ]
  },
  {
   "cell_type": "code",
   "execution_count": 4,
   "metadata": {
    "collapsed": true
   },
   "outputs": [],
   "source": [
    "def get_weight(pt):\n",
    "    min_pt = -0.45261003\n",
    "    max_pt = 1.03705417\n",
    "    weight = torch.ByteTensor(pt.shape).fill_(1)\n",
    "    weight[pt < min_pt] = 0\n",
    "    weight[pt > max_pt] = 0\n",
    "    return weight\n",
    "\n",
    "def validate():\n",
    "    global best_loss\n",
    "    global total_val_loss\n",
    "    global total_val_acc\n",
    "    global total_train_loss\n",
    "    global total_train_acc\n",
    "    global all_preds\n",
    "    global all_targets\n",
    "    global all_weights\n",
    "    net.eval()\n",
    "    test_loss = 0\n",
    "    total = 0\n",
    "\n",
    "    for batch_idx, data in enumerate(valid_loader):\n",
    "        jets, cons, pca, targets = data[0], data[1], data[2], data[3]\n",
    "        weights = get_weight(jets[:,0]).cuda()\n",
    "\n",
    "        jets, cons, pca, targets = Variable(jets.cuda(), volatile=True), Variable(cons.cuda(), volatile=True), Variable(pca.cuda(), volatile=True), Variable(targets.cuda())\n",
    "        outputs = net(cons, jets, pca)\n",
    "        \n",
    "        all_preds[batch_idx*batch_size:batch_idx*batch_size+outputs.data.shape[0]] = outputs.data[:].clone()\n",
    "        all_targets[batch_idx*batch_size:batch_idx*batch_size+outputs.data.shape[0]] = targets.data[:].clone()\n",
    "        all_weights[batch_idx*batch_size:batch_idx*batch_size+outputs.data.shape[0]] = weights[:].clone()\n",
    "        \n",
    "    print(\"Done\")"
   ]
  },
  {
   "cell_type": "code",
   "execution_count": 5,
   "metadata": {
    "scrolled": true
   },
   "outputs": [
    {
     "name": "stdout",
     "output_type": "stream",
     "text": [
      "Loading dataset\n",
      "Loading completed\n",
      "Done\n"
     ]
    }
   ],
   "source": [
    "valid_size = 0.5\n",
    "batch_size = 1000\n",
    "pin_memory = False\n",
    "num_workers = 4\n",
    "dry = False\n",
    "\n",
    "best_loss = 0\n",
    "start_epoch = 0\n",
    "total_train_acc = []\n",
    "total_val_acc = []\n",
    "total_train_loss = []\n",
    "total_val_loss = []\n",
    "\n",
    "### Loading dataset\n",
    "print(\"Loading dataset\")\n",
    "with h5py.File(\"/bigdata/shared/IML/preprocessed_qcd.h5\",\"r\") as infile:\n",
    "    if dry:\n",
    "        sorted_pt_constituents = infile['Constituents'][:4000]\n",
    "        scaled_jets = infile['Jets'][:4000]\n",
    "        pca = infile['PCA'][:4000]\n",
    "        mass_targets = infile['Targets'][:4000]\n",
    "    else:\n",
    "        sorted_pt_constituents = infile['Constituents'][:]\n",
    "        scaled_jets = infile['Jets'][:]\n",
    "        pca = infile['PCA'][:]\n",
    "        mass_targets = infile['Targets'][:]\n",
    "print(\"Loading completed\")\n",
    "\n",
    "events = EventDataset(scaled_jets, sorted_pt_constituents, pca, np.expand_dims(mass_targets,axis=1))\n",
    "num_train = len(events)\n",
    "indices = list(range(len(events)))\n",
    "np.random.shuffle(indices)\n",
    "split = int(np.floor(valid_size * num_train))\n",
    "\n",
    "train_idx, valid_idx = indices[split:], indices[:split]\n",
    "train_sampler = SubsetRandomSampler(train_idx)\n",
    "valid_sampler = SubsetRandomSampler(valid_idx)\n",
    "\n",
    "train_loader = DataLoader(\n",
    "        events, batch_size=batch_size, sampler=train_sampler,\n",
    "        num_workers=num_workers, pin_memory=pin_memory,\n",
    "    )\n",
    "valid_loader = DataLoader(\n",
    "        events, batch_size=batch_size, sampler=valid_sampler,\n",
    "        num_workers=num_workers, pin_memory=pin_memory,\n",
    "    )\n",
    "\n",
    "assert os.path.isdir('checkpoint'), 'Error: no checkpoint directory found!'\n",
    "checkpoint = torch.load('./checkpoint/ckptMSEreluPCA.t7')\n",
    "net = checkpoint['net']\n",
    "best_loss = checkpoint['best_loss']\n",
    "start_epoch = checkpoint['epoch']\n",
    "total_train_loss = checkpoint['train_loss']\n",
    "total_val_loss = checkpoint['val_loss']\n",
    "criterion = nn.MSELoss().cuda()\n",
    "\n",
    "net = net.cuda()\n",
    "\n",
    "all_preds = torch.FloatTensor(len(valid_loader)*batch_size,1).zero_().cuda()\n",
    "all_targets = torch.FloatTensor(len(valid_loader)*batch_size,1).zero_().cuda()\n",
    "all_weights = torch.ByteTensor(len(valid_loader)*batch_size,1).zero_().cuda()\n",
    "\n",
    "validate()\n"
   ]
  },
  {
   "cell_type": "code",
   "execution_count": 6,
   "metadata": {},
   "outputs": [
    {
     "name": "stdout",
     "output_type": "stream",
     "text": [
      "(522000, 1)\n",
      "(522000, 1)\n"
     ]
    },
    {
     "data": {
      "image/png": "[encoded data removed]",
      "text/plain": [
       "<matplotlib.figure.Figure at 0x7ff2d40a6b10>"
      ]
     },
     "metadata": {},
     "output_type": "display_data"
    },
    {
     "data": {
      "image/png": "[encoded data removed]",
      "text/plain": [
       "<matplotlib.figure.Figure at 0x7ff342260050>"
      ]
     },
     "metadata": {},
     "output_type": "display_data"
    },
    {
     "data": {
      "image/png": "[encoded data removed]",
      "text/plain": [
       "<matplotlib.figure.Figure at 0x7ff7fc0b0610>"
      ]
     },
     "metadata": {},
     "output_type": "display_data"
    },
    {
     "data": {
      "image/png": "[encoded data removed]",
      "text/plain": [
       "<matplotlib.figure.Figure at 0x7ff7fc319c90>"
      ]
     },
     "metadata": {},
     "output_type": "display_data"
    }
   ],
   "source": [
    "plt.figure()\n",
    "plt.hist(all_preds.cpu().numpy(), bins=40, range=(0,200), alpha=0.5, label='Prediction')\n",
    "plt.hist(all_targets.cpu().numpy(), bins=40, range = (0,200), alpha=0.5, label='Target')\n",
    "plt.legend(loc='best')\n",
    "\n",
    "print(all_preds.cpu().numpy().shape)\n",
    "print(all_targets.cpu().numpy().shape)\n",
    "plt.figure()\n",
    "plt.hist2d(all_preds.cpu().numpy()[:,0], all_targets.cpu().numpy()[:,0], bins=40,norm=LogNorm())\n",
    "plt.xlabel('Predictions')\n",
    "plt.ylabel('Targets')\n",
    "plt.show()\n",
    "\n",
    "plt.figure()\n",
    "ratio = all_preds.cpu().numpy()/(all_targets.cpu().numpy()+1e-7)\n",
    "plt.hist(ratio, bins=40,range=(-1,3))\n",
    "plt.show()\n",
    "\n",
    "masked = all_weights.cpu().numpy()>0\n",
    "plt.figure()\n",
    "ratio = all_preds.cpu().numpy()[masked[:,0]]/(all_targets.cpu().numpy()[masked[:,0]]+1e-7)\n",
    "plt.hist(ratio, bins=40, range=(-1,3))\n",
    "plt.show()"
   ]
  },
  {
   "cell_type": "code",
   "execution_count": 7,
   "metadata": {},
   "outputs": [
    {
     "name": "stdout",
     "output_type": "stream",
     "text": [
      "1.6721127662120447\n"
     ]
    }
   ],
   "source": [
    "def evaluate_loss(predictions, truth):  \n",
    "     ratio = predictions/truth \n",
    "     a = np.nanpercentile(ratio, 84, interpolation='nearest')  \n",
    "     b = np.nanpercentile(ratio, 16, interpolation='nearest')  \n",
    "     c = np.nanpercentile(ratio, 50, interpolation='nearest')  \n",
    "     loss = (a-b)/(2.*c)  \n",
    "     return loss\n",
    "print (evaluate_loss(all_preds.cpu().numpy()[masked[:,0]],all_targets.cpu().numpy()[masked[:,0]]))"
   ]
  },
  {
   "cell_type": "markdown",
   "metadata": {
    "collapsed": true
   },
   "source": [
    "# Run on test set"
   ]
  },
  {
   "cell_type": "code",
   "execution_count": 7,
   "metadata": {},
   "outputs": [
    {
     "name": "stdout",
     "output_type": "stream",
     "text": [
      "Loading dataset\n",
      "Loading completed\n",
      "Done\n"
     ]
    }
   ],
   "source": [
    "dry = False\n",
    "batch_size = 1000\n",
    "pin_memory = False\n",
    "num_workers = 4\n",
    "\n",
    "class TestDataset(Dataset):\n",
    "    def __init__(self, jets, constituents, pca,\n",
    "                 constituents_name = ['constituents_pt', 'constituents_eta', 'constituents_phi',\n",
    "                                      'constituents_charge', 'constituents_dxy', 'constituents_dz',\n",
    "                                      'constituents_Eem', 'constituents_Ehad'],\n",
    "                 jets_name = ['recojet_pt', 'recojet_eta', 'recojet_phi', 'recojet_m', 'recojet_sd_pt',\n",
    "                             'recojet_sd_eta', 'recojet_sd_phi', 'recojet_sd_m', 'n_constituents']\n",
    "                ):\n",
    "        self.jets = jets\n",
    "        self.constituents = constituents\n",
    "        self.pca = pca\n",
    "        self.constituents_name = constituents_name\n",
    "        self.jets_name = jets_name\n",
    "    def __len__(self):\n",
    "        return self.jets.shape[0]\n",
    "    def __getitem__(self,idx):\n",
    "        out = (torch.FloatTensor(self.jets[idx,...]),\n",
    "        torch.FloatTensor(self.constituents[idx,...]),\n",
    "        torch.FloatTensor(self.pca[idx,...]))\n",
    "        return out\n",
    "\n",
    "\n",
    "def get_weight(pt):\n",
    "    min_pt = -0.45261003\n",
    "    max_pt = 1.03705417\n",
    "    weight = torch.ByteTensor(pt.shape).fill_(1)\n",
    "    weight[pt < min_pt] = 0\n",
    "    weight[pt > max_pt] = 0\n",
    "    return weight\n",
    "\n",
    "def test():\n",
    "    global test_preds\n",
    "    global test_weights\n",
    "\n",
    "    net.eval()\n",
    "\n",
    "    for batch_idx, data in enumerate(test_loader):\n",
    "        jets, cons, pca = data[0], data[1], data[2]\n",
    "        weights = get_weight(jets[:,0]).cuda()\n",
    "\n",
    "        jets, cons, pca = Variable(jets.cuda(), volatile=True), Variable(cons.cuda(), volatile=True), Variable(pca.cuda(), volatile=True)\n",
    "        outputs = net(cons, jets, pca)\n",
    "        \n",
    "        test_preds[batch_idx*batch_size:batch_idx*batch_size+outputs.data.shape[0]] = outputs.data[:].clone()\n",
    "        test_weights[batch_idx*batch_size:batch_idx*batch_size+outputs.data.shape[0]] = weights[:].clone()\n",
    "        \n",
    "    print(\"Done\")\n",
    "\n",
    "\n",
    "### Loading dataset\n",
    "print(\"Loading dataset\")\n",
    "with h5py.File(\"/bigdata/shared/IML/preprocessed_qcd_test.h5\",\"r\") as infile:\n",
    "    if dry:\n",
    "        sorted_pt_constituents = infile['Constituents'][:4000]\n",
    "        scaled_jets = infile['Jets'][:4000]\n",
    "        pca = infile['PCA'][:4000]\n",
    "    else:\n",
    "        sorted_pt_constituents = infile['Constituents'][:]\n",
    "        scaled_jets = infile['Jets'][:]\n",
    "        pca = infile['PCA'][:]\n",
    "print(\"Loading completed\")\n",
    "\n",
    "\n",
    "\n"
   ]
  },
  {
   "cell_type": "code",
   "execution_count": 14,
   "metadata": {},
   "outputs": [
    {
     "name": "stdout",
     "output_type": "stream",
     "text": [
      "Done\n"
     ]
    }
   ],
   "source": [
    "events = TestDataset(scaled_jets, sorted_pt_constituents, pca)\n",
    "num_train = len(events)\n",
    "\n",
    "test_loader = DataLoader(events, batch_size=batch_size, shuffle=False)\n",
    "test_events = DataLoader(events, batch_size=1, shuffle=False)\n",
    "len(test_events)\n",
    "\n",
    "assert os.path.isdir('checkpoint'), 'Error: no checkpoint directory found!'\n",
    "checkpoint = torch.load('./checkpoint/ckptMSEreluPCA.t7')\n",
    "net = checkpoint['net']\n",
    "\n",
    "net = net.cuda()\n",
    "\n",
    "test_preds = torch.FloatTensor(len(test_events),1).zero_().cuda()\n",
    "test_weights = torch.ByteTensor(len(test_events),1).zero_().cuda()\n",
    "\n",
    "test()"
   ]
  },
  {
   "cell_type": "code",
   "execution_count": null,
   "metadata": {
    "collapsed": true
   },
   "outputs": [],
   "source": []
  },
  {
   "cell_type": "code",
   "execution_count": 15,
   "metadata": {},
   "outputs": [
    {
     "name": "stdout",
     "output_type": "stream",
     "text": [
      "(1030015, 1)\n"
     ]
    },
    {
     "data": {
      "image/png": "[encoded data removed]",
      "text/plain": [
       "<matplotlib.figure.Figure at 0x7f82372c9810>"
      ]
     },
     "metadata": {},
     "output_type": "display_data"
    },
    {
     "data": {
      "image/png": "[encoded data removed]",
      "text/plain": [
       "<matplotlib.figure.Figure at 0x7f7da81152d0>"
      ]
     },
     "metadata": {},
     "output_type": "display_data"
    }
   ],
   "source": [
    "plt.figure()\n",
    "plt.hist(test_preds.cpu().numpy(), bins=40, range=(0,200), alpha=0.5, label='Prediction')\n",
    "plt.legend(loc='best')\n",
    "\n",
    "print(test_preds.cpu().numpy().shape)\n",
    "\n",
    "masked = test_weights.cpu().numpy()>0\n",
    "plt.figure()\n",
    "plt.hist(test_preds.cpu().numpy()[masked[:,0]], bins=40)\n",
    "plt.show()"
   ]
  },
  {
   "cell_type": "code",
   "execution_count": 16,
   "metadata": {
    "collapsed": true
   },
   "outputs": [],
   "source": [
    "np.save(\"TN_submission2.npy\", test_preds.cpu().numpy())"
   ]
  }
 ],
 "metadata": {
  "kernelspec": {
   "display_name": "Python 2",
   "language": "python",
   "name": "python2"
  },
  "language_info": {
   "codemirror_mode": {
    "name": "ipython",
    "version": 2
   },
   "file_extension": ".py",
   "mimetype": "text/x-python",
   "name": "python",
   "nbconvert_exporter": "python",
   "pygments_lexer": "ipython2",
   "version": "2.7.12"
  }
 },
 "nbformat": 4,
 "nbformat_minor": 2
}
